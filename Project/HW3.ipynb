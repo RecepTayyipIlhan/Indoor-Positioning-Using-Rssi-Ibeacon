{
 "cells": [
  {
   "cell_type": "markdown",
   "id": "3aae62e5",
   "metadata": {},
   "source": [
    "### Exploratory Data Analysis - EDA\n",
    "\n",
    "Following steps should be applied on your project datasets.\n",
    "\n",
    "1. Read data using pandas\n",
    "2. Describe your data basically. \n",
    "3. Find duplicated rows and drop them.\n",
    "4. Find the Null & Missing values.\n",
    "5. Replace the Null & Missing values using two different method.\n",
    "6. Find outliers\n",
    "7. Replace outliers using two different method\n",
    "8. Export your data as ..."
   ]
  },
  {
   "cell_type": "code",
   "execution_count": 2,
   "id": "6f6e0e23",
   "metadata": {},
   "outputs": [],
   "source": [
    "import pandas as pd\n",
    "import numpy as np"
   ]
  },
  {
   "cell_type": "code",
   "execution_count": 6,
   "outputs": [
    {
     "data": {
      "text/plain": "     location                 date  b3001  b3002  b3003  b3004  b3005  b3006  \\\n0         O02  10-18-2016 11:15:21   -200   -200   -200   -200   -200    -78   \n1         P01  10-18-2016 11:15:19   -200   -200   -200   -200   -200    -78   \n2         P01  10-18-2016 11:15:17   -200   -200   -200   -200   -200    -77   \n3         P01  10-18-2016 11:15:15   -200   -200   -200   -200   -200    -77   \n4         P01  10-18-2016 11:15:13   -200   -200   -200   -200   -200    -77   \n...       ...                  ...    ...    ...    ...    ...    ...    ...   \n1415      I01    4-19-2016 9:37:46   -200    -76   -200   -200   -200   -200   \n1416      I01    4-19-2016 9:37:39   -200    -72   -200   -200   -200   -200   \n1417      I01    4-19-2016 9:37:36   -200    -67   -200   -200   -200   -200   \n1418      I01    4-19-2016 9:37:26   -200    -79   -200   -200   -200   -200   \n1419      I01    4-19-2016 9:37:23   -200    -75   -200   -200   -200   -200   \n\n      b3007  b3008  b3009  b3010  b3011  b3012  b3013  \n0      -200   -200   -200   -200   -200   -200   -200  \n1      -200   -200   -200   -200   -200   -200   -200  \n2      -200   -200   -200   -200   -200   -200   -200  \n3      -200   -200   -200   -200   -200   -200   -200  \n4      -200   -200   -200   -200   -200   -200   -200  \n...     ...    ...    ...    ...    ...    ...    ...  \n1415   -200   -200   -200   -200   -200   -200   -200  \n1416   -200   -200   -200   -200   -200   -200   -200  \n1417   -200   -200   -200   -200   -200   -200   -200  \n1418   -200   -200   -200   -200   -200   -200   -200  \n1419   -200   -200   -200   -200   -200   -200   -200  \n\n[1420 rows x 15 columns]",
      "text/html": "<div>\n<style scoped>\n    .dataframe tbody tr th:only-of-type {\n        vertical-align: middle;\n    }\n\n    .dataframe tbody tr th {\n        vertical-align: top;\n    }\n\n    .dataframe thead th {\n        text-align: right;\n    }\n</style>\n<table border=\"1\" class=\"dataframe\">\n  <thead>\n    <tr style=\"text-align: right;\">\n      <th></th>\n      <th>location</th>\n      <th>date</th>\n      <th>b3001</th>\n      <th>b3002</th>\n      <th>b3003</th>\n      <th>b3004</th>\n      <th>b3005</th>\n      <th>b3006</th>\n      <th>b3007</th>\n      <th>b3008</th>\n      <th>b3009</th>\n      <th>b3010</th>\n      <th>b3011</th>\n      <th>b3012</th>\n      <th>b3013</th>\n    </tr>\n  </thead>\n  <tbody>\n    <tr>\n      <th>0</th>\n      <td>O02</td>\n      <td>10-18-2016 11:15:21</td>\n      <td>-200</td>\n      <td>-200</td>\n      <td>-200</td>\n      <td>-200</td>\n      <td>-200</td>\n      <td>-78</td>\n      <td>-200</td>\n      <td>-200</td>\n      <td>-200</td>\n      <td>-200</td>\n      <td>-200</td>\n      <td>-200</td>\n      <td>-200</td>\n    </tr>\n    <tr>\n      <th>1</th>\n      <td>P01</td>\n      <td>10-18-2016 11:15:19</td>\n      <td>-200</td>\n      <td>-200</td>\n      <td>-200</td>\n      <td>-200</td>\n      <td>-200</td>\n      <td>-78</td>\n      <td>-200</td>\n      <td>-200</td>\n      <td>-200</td>\n      <td>-200</td>\n      <td>-200</td>\n      <td>-200</td>\n      <td>-200</td>\n    </tr>\n    <tr>\n      <th>2</th>\n      <td>P01</td>\n      <td>10-18-2016 11:15:17</td>\n      <td>-200</td>\n      <td>-200</td>\n      <td>-200</td>\n      <td>-200</td>\n      <td>-200</td>\n      <td>-77</td>\n      <td>-200</td>\n      <td>-200</td>\n      <td>-200</td>\n      <td>-200</td>\n      <td>-200</td>\n      <td>-200</td>\n      <td>-200</td>\n    </tr>\n    <tr>\n      <th>3</th>\n      <td>P01</td>\n      <td>10-18-2016 11:15:15</td>\n      <td>-200</td>\n      <td>-200</td>\n      <td>-200</td>\n      <td>-200</td>\n      <td>-200</td>\n      <td>-77</td>\n      <td>-200</td>\n      <td>-200</td>\n      <td>-200</td>\n      <td>-200</td>\n      <td>-200</td>\n      <td>-200</td>\n      <td>-200</td>\n    </tr>\n    <tr>\n      <th>4</th>\n      <td>P01</td>\n      <td>10-18-2016 11:15:13</td>\n      <td>-200</td>\n      <td>-200</td>\n      <td>-200</td>\n      <td>-200</td>\n      <td>-200</td>\n      <td>-77</td>\n      <td>-200</td>\n      <td>-200</td>\n      <td>-200</td>\n      <td>-200</td>\n      <td>-200</td>\n      <td>-200</td>\n      <td>-200</td>\n    </tr>\n    <tr>\n      <th>...</th>\n      <td>...</td>\n      <td>...</td>\n      <td>...</td>\n      <td>...</td>\n      <td>...</td>\n      <td>...</td>\n      <td>...</td>\n      <td>...</td>\n      <td>...</td>\n      <td>...</td>\n      <td>...</td>\n      <td>...</td>\n      <td>...</td>\n      <td>...</td>\n      <td>...</td>\n    </tr>\n    <tr>\n      <th>1415</th>\n      <td>I01</td>\n      <td>4-19-2016 9:37:46</td>\n      <td>-200</td>\n      <td>-76</td>\n      <td>-200</td>\n      <td>-200</td>\n      <td>-200</td>\n      <td>-200</td>\n      <td>-200</td>\n      <td>-200</td>\n      <td>-200</td>\n      <td>-200</td>\n      <td>-200</td>\n      <td>-200</td>\n      <td>-200</td>\n    </tr>\n    <tr>\n      <th>1416</th>\n      <td>I01</td>\n      <td>4-19-2016 9:37:39</td>\n      <td>-200</td>\n      <td>-72</td>\n      <td>-200</td>\n      <td>-200</td>\n      <td>-200</td>\n      <td>-200</td>\n      <td>-200</td>\n      <td>-200</td>\n      <td>-200</td>\n      <td>-200</td>\n      <td>-200</td>\n      <td>-200</td>\n      <td>-200</td>\n    </tr>\n    <tr>\n      <th>1417</th>\n      <td>I01</td>\n      <td>4-19-2016 9:37:36</td>\n      <td>-200</td>\n      <td>-67</td>\n      <td>-200</td>\n      <td>-200</td>\n      <td>-200</td>\n      <td>-200</td>\n      <td>-200</td>\n      <td>-200</td>\n      <td>-200</td>\n      <td>-200</td>\n      <td>-200</td>\n      <td>-200</td>\n      <td>-200</td>\n    </tr>\n    <tr>\n      <th>1418</th>\n      <td>I01</td>\n      <td>4-19-2016 9:37:26</td>\n      <td>-200</td>\n      <td>-79</td>\n      <td>-200</td>\n      <td>-200</td>\n      <td>-200</td>\n      <td>-200</td>\n      <td>-200</td>\n      <td>-200</td>\n      <td>-200</td>\n      <td>-200</td>\n      <td>-200</td>\n      <td>-200</td>\n      <td>-200</td>\n    </tr>\n    <tr>\n      <th>1419</th>\n      <td>I01</td>\n      <td>4-19-2016 9:37:23</td>\n      <td>-200</td>\n      <td>-75</td>\n      <td>-200</td>\n      <td>-200</td>\n      <td>-200</td>\n      <td>-200</td>\n      <td>-200</td>\n      <td>-200</td>\n      <td>-200</td>\n      <td>-200</td>\n      <td>-200</td>\n      <td>-200</td>\n      <td>-200</td>\n    </tr>\n  </tbody>\n</table>\n<p>1420 rows × 15 columns</p>\n</div>"
     },
     "execution_count": 6,
     "metadata": {},
     "output_type": "execute_result"
    }
   ],
   "source": [
    "data = pd.read_csv(\"iBeacon_RSSI_Labeled.csv\")\n",
    "data"
   ],
   "metadata": {
    "collapsed": false
   }
  },
  {
   "cell_type": "code",
   "execution_count": 7,
   "outputs": [
    {
     "data": {
      "text/plain": "(1420, 15)"
     },
     "execution_count": 7,
     "metadata": {},
     "output_type": "execute_result"
    }
   ],
   "source": [
    "data.shape"
   ],
   "metadata": {
    "collapsed": false
   }
  },
  {
   "cell_type": "code",
   "execution_count": 9,
   "outputs": [
    {
     "data": {
      "text/plain": "(1420, 15)"
     },
     "execution_count": 9,
     "metadata": {},
     "output_type": "execute_result"
    }
   ],
   "source": [
    "data.drop_duplicates()\n",
    "data.shape"
   ],
   "metadata": {
    "collapsed": false
   }
  },
  {
   "cell_type": "markdown",
   "source": [
    " There is no duplicate data beacuse of date column"
   ],
   "metadata": {
    "collapsed": false
   }
  },
  {
   "cell_type": "code",
   "execution_count": null,
   "outputs": [],
   "source": [],
   "metadata": {
    "collapsed": false
   }
  }
 ],
 "metadata": {
  "kernelspec": {
   "display_name": "Python 3 (ipykernel)",
   "language": "python",
   "name": "python3"
  },
  "language_info": {
   "codemirror_mode": {
    "name": "ipython",
    "version": 3
   },
   "file_extension": ".py",
   "mimetype": "text/x-python",
   "name": "python",
   "nbconvert_exporter": "python",
   "pygments_lexer": "ipython3",
   "version": "3.9.7"
  }
 },
 "nbformat": 4,
 "nbformat_minor": 5
}
